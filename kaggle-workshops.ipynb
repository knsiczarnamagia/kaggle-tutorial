{
 "cells": [
  {
   "cell_type": "code",
   "execution_count": null,
   "id": "93c4d7cc",
   "metadata": {
    "_cell_guid": "b1076dfc-b9ad-4769-8c92-a6c4dae69d19",
    "_uuid": "8f2839f25d086af736a60e9eeb907d3b93b6e0e5",
    "execution": {
     "iopub.execute_input": "2024-11-11T16:20:38.699516Z",
     "iopub.status.busy": "2024-11-11T16:20:38.699033Z",
     "iopub.status.idle": "2024-11-11T16:20:39.653991Z",
     "shell.execute_reply": "2024-11-11T16:20:39.652822Z"
    },
    "papermill": {
     "duration": 0.964664,
     "end_time": "2024-11-11T16:20:39.656393",
     "exception": false,
     "start_time": "2024-11-11T16:20:38.691729",
     "status": "completed"
    },
    "tags": []
   },
   "outputs": [],
   "source": [
    "# This Python 3 environment comes with many helpful analytics libraries installed\n",
    "# It is defined by the kaggle/python Docker image: https://github.com/kaggle/docker-python\n",
    "# For example, here's several helpful packages to load\n",
    "\n",
    "import numpy as np  # linear algebra\n",
    "import pandas as pd  # data processing, CSV file I/O (e.g. pd.read_csv)\n",
    "\n",
    "# Input data files are available in the read-only \"../input/\" directory\n",
    "# For example, running this (by clicking run or pressing Shift+Enter) will list all files under the input directory\n",
    "\n",
    "import os\n",
    "\n",
    "for dirname, _, filenames in os.walk(\"data/titanic\"):\n",
    "    for filename in filenames:\n",
    "        print(os.path.join(dirname, filename))\n",
    "\n",
    "# You can write up to 20GB to the current directory (/kaggle/working/) that gets preserved as output when you create a version using \"Save & Run All\"\n",
    "# You can also write temporary files to /kaggle/temp/, but they won't be saved outside of the current session"
   ]
  },
  {
   "cell_type": "markdown",
   "id": "80c511a1",
   "metadata": {
    "papermill": {
     "duration": 0.00487,
     "end_time": "2024-11-11T16:20:39.666646",
     "exception": false,
     "start_time": "2024-11-11T16:20:39.661776",
     "status": "completed"
    },
    "tags": []
   },
   "source": [
    "# Typical workflow: \n",
    "1. data exploration (visualization, understanding the data/problem)\n",
    "2. cleaning/imputation (e.g. `fillna`, removal of redundant/least important columns etc.). \n",
    "3. model selection, training (is this problem classification or regression; selection of the most efficient model)\n",
    "4. submit prediction"
   ]
  },
  {
   "cell_type": "markdown",
   "id": "d3b469eb",
   "metadata": {
    "papermill": {
     "duration": 0.004755,
     "end_time": "2024-11-11T16:20:39.676508",
     "exception": false,
     "start_time": "2024-11-11T16:20:39.671753",
     "status": "completed"
    },
    "tags": []
   },
   "source": [
    "# 1. EDA - Exploratory Data Analysis"
   ]
  },
  {
   "cell_type": "markdown",
   "id": "fac3b8c6",
   "metadata": {
    "papermill": {
     "duration": 0.004779,
     "end_time": "2024-11-11T16:20:39.686395",
     "exception": false,
     "start_time": "2024-11-11T16:20:39.681616",
     "status": "completed"
    },
    "tags": []
   },
   "source": [
    "## Read datacard of competition\n",
    "\n",
    "https://www.kaggle.com/competitions/titanic/data"
   ]
  },
  {
   "cell_type": "markdown",
   "id": "5c0c21f6",
   "metadata": {
    "papermill": {
     "duration": 0.004784,
     "end_time": "2024-11-11T16:20:39.696374",
     "exception": false,
     "start_time": "2024-11-11T16:20:39.691590",
     "status": "completed"
    },
    "tags": []
   },
   "source": [
    "## Read data"
   ]
  },
  {
   "cell_type": "code",
   "execution_count": null,
   "id": "8fd1acf3",
   "metadata": {
    "execution": {
     "iopub.execute_input": "2024-11-11T16:20:39.708406Z",
     "iopub.status.busy": "2024-11-11T16:20:39.707839Z",
     "iopub.status.idle": "2024-11-11T16:20:39.774945Z",
     "shell.execute_reply": "2024-11-11T16:20:39.773766Z"
    },
    "papermill": {
     "duration": 0.075999,
     "end_time": "2024-11-11T16:20:39.777576",
     "exception": false,
     "start_time": "2024-11-11T16:20:39.701577",
     "status": "completed"
    },
    "tags": []
   },
   "outputs": [],
   "source": [
    "train = pd.read_csv(\"data/titanic/train.csv\", index_col=\"PassengerId\")\n",
    "test = pd.read_csv(\"data/titanic/test.csv\", index_col=\"PassengerId\")\n",
    "train.head(10)"
   ]
  },
  {
   "cell_type": "code",
   "execution_count": null,
   "id": "5777d7b4",
   "metadata": {
    "execution": {
     "iopub.execute_input": "2024-11-11T16:20:39.791905Z",
     "iopub.status.busy": "2024-11-11T16:20:39.791505Z",
     "iopub.status.idle": "2024-11-11T16:20:39.823247Z",
     "shell.execute_reply": "2024-11-11T16:20:39.822240Z"
    },
    "papermill": {
     "duration": 0.042229,
     "end_time": "2024-11-11T16:20:39.825569",
     "exception": false,
     "start_time": "2024-11-11T16:20:39.783340",
     "status": "completed"
    },
    "tags": []
   },
   "outputs": [],
   "source": [
    "train.describe()  # stats of each column"
   ]
  },
  {
   "cell_type": "code",
   "execution_count": null,
   "id": "2b307511",
   "metadata": {
    "execution": {
     "iopub.execute_input": "2024-11-11T16:20:39.838748Z",
     "iopub.status.busy": "2024-11-11T16:20:39.838355Z",
     "iopub.status.idle": "2024-11-11T16:20:39.846803Z",
     "shell.execute_reply": "2024-11-11T16:20:39.845690Z"
    },
    "papermill": {
     "duration": 0.017705,
     "end_time": "2024-11-11T16:20:39.849102",
     "exception": false,
     "start_time": "2024-11-11T16:20:39.831397",
     "status": "completed"
    },
    "tags": []
   },
   "outputs": [],
   "source": [
    "train.dtypes  # any suggestions/conclusions at this step?"
   ]
  },
  {
   "cell_type": "code",
   "execution_count": null,
   "id": "0b56fd2f",
   "metadata": {
    "execution": {
     "iopub.execute_input": "2024-11-11T16:20:39.862565Z",
     "iopub.status.busy": "2024-11-11T16:20:39.862178Z",
     "iopub.status.idle": "2024-11-11T16:20:39.870811Z",
     "shell.execute_reply": "2024-11-11T16:20:39.869755Z"
    },
    "papermill": {
     "duration": 0.017944,
     "end_time": "2024-11-11T16:20:39.873086",
     "exception": false,
     "start_time": "2024-11-11T16:20:39.855142",
     "status": "completed"
    },
    "tags": []
   },
   "outputs": [],
   "source": [
    "print(train.isnull().sum(), \"\\n\")\n",
    "print(test.isnull().sum())"
   ]
  },
  {
   "cell_type": "code",
   "execution_count": null,
   "id": "b11a5a99",
   "metadata": {
    "execution": {
     "iopub.execute_input": "2024-11-11T16:20:39.886646Z",
     "iopub.status.busy": "2024-11-11T16:20:39.886263Z",
     "iopub.status.idle": "2024-11-11T16:20:43.948505Z",
     "shell.execute_reply": "2024-11-11T16:20:43.947125Z"
    },
    "papermill": {
     "duration": 4.072432,
     "end_time": "2024-11-11T16:20:43.951467",
     "exception": false,
     "start_time": "2024-11-11T16:20:39.879035",
     "status": "completed"
    },
    "tags": []
   },
   "outputs": [],
   "source": [
    "import pandas as pd\n",
    "import seaborn as sns\n",
    "import matplotlib.pyplot as plt\n",
    "\n",
    "\n",
    "def eda_titanic_data(df):\n",
    "    # Distribution of target variable 'Survived'\n",
    "    plt.figure(figsize=(6, 4))\n",
    "    sns.countplot(x=\"Survived\", data=df)\n",
    "    plt.title(\"Survival Distribution\")\n",
    "    plt.show()\n",
    "\n",
    "    # Distribution of 'Age'\n",
    "    plt.figure(figsize=(6, 4))\n",
    "    sns.histplot(df[\"Age\"], kde=True, bins=10)\n",
    "    plt.title(\"Age Distribution\")\n",
    "    plt.show()\n",
    "\n",
    "    # Distribution of 'Fare'\n",
    "    plt.figure(figsize=(6, 4))\n",
    "    sns.histplot(df[\"Fare\"], kde=True, bins=10)\n",
    "    plt.title(\"Fare Distribution\")\n",
    "    plt.show()\n",
    "\n",
    "    plt.figure(figsize=(6, 4))\n",
    "    sns.histplot(np.log1p(df[\"Fare\"]), kde=True, bins=30)\n",
    "    plt.title(\"log(1+Fare) Distribution\")\n",
    "    plt.show()\n",
    "\n",
    "    # Survival rate by Sex\n",
    "    plt.figure(figsize=(6, 4))\n",
    "    sns.countplot(x=\"Sex\", hue=\"Survived\", data=df)\n",
    "    plt.title(\"Survival Rate by Sex\")\n",
    "    plt.show()\n",
    "\n",
    "    # Survival rate by Pclass\n",
    "    plt.figure(figsize=(6, 4))\n",
    "    sns.countplot(x=\"Pclass\", hue=\"Survived\", data=df)\n",
    "    plt.title(\"Survival Rate by Pclass\")\n",
    "    plt.show()\n",
    "\n",
    "    # Box Plot for Age vs Survived\n",
    "    plt.figure(figsize=(6, 4))\n",
    "    sns.boxplot(x=\"Survived\", y=\"Age\", data=df, palette=\"coolwarm\")\n",
    "    plt.title(\"Age Distribution by Survival\")\n",
    "    plt.show()\n",
    "\n",
    "    # Correlation heatmap of numeric features\n",
    "    plt.figure(figsize=(8, 6))\n",
    "    corr = df.select_dtypes(include=[np.number]).corr()\n",
    "    sns.heatmap(corr, annot=True, cmap=\"coolwarm\", fmt=\".2f\")\n",
    "    plt.title(\"Correlation Heatmap\")\n",
    "    plt.show()\n",
    "\n",
    "\n",
    "eda_titanic_data(train)"
   ]
  },
  {
   "cell_type": "markdown",
   "id": "f79ae7b8",
   "metadata": {
    "papermill": {
     "duration": 0.009793,
     "end_time": "2024-11-11T16:20:43.972276",
     "exception": false,
     "start_time": "2024-11-11T16:20:43.962483",
     "status": "completed"
    },
    "tags": []
   },
   "source": [
    "# 2. Preprocessing"
   ]
  },
  {
   "cell_type": "code",
   "execution_count": null,
   "id": "6349cc66",
   "metadata": {
    "execution": {
     "iopub.execute_input": "2024-11-11T16:20:43.994535Z",
     "iopub.status.busy": "2024-11-11T16:20:43.993668Z",
     "iopub.status.idle": "2024-11-11T16:20:44.196437Z",
     "shell.execute_reply": "2024-11-11T16:20:44.195268Z"
    },
    "papermill": {
     "duration": 0.216821,
     "end_time": "2024-11-11T16:20:44.198997",
     "exception": false,
     "start_time": "2024-11-11T16:20:43.982176",
     "status": "completed"
    },
    "tags": []
   },
   "outputs": [],
   "source": [
    "from sklearn.preprocessing import LabelEncoder, StandardScaler\n",
    "\n",
    "\n",
    "def preprocess_data(train_df, test_df):\n",
    "    # Drop the 'Name', 'Cabin', 'Ticket' columns from both train and test datasets\n",
    "    train_df = train_df.drop([\"Name\", \"Cabin\", \"Ticket\"], axis=1)\n",
    "    test_df = test_df.drop([\"Name\", \"Cabin\", \"Ticket\"], axis=1)\n",
    "\n",
    "    # Fill missing Age values with the median\n",
    "    median = train_df[\"Age\"].median()\n",
    "    train_df[\"Age\"] = train_df[\"Age\"].fillna(median)\n",
    "    test_df[\"Age\"] = test_df[\"Age\"].fillna(median)\n",
    "\n",
    "    # Fill missing Embarked values with the most frequent value (mode)\n",
    "    mode = train_df[\"Embarked\"].mode()[0]\n",
    "    train_df[\"Embarked\"] = train_df[\"Embarked\"].fillna(mode)\n",
    "    test_df[\"Embarked\"] = test_df[\"Embarked\"].fillna(mode)\n",
    "\n",
    "    # Fill missing Fare values with the median and log\n",
    "    median = train_df[\"Fare\"].median()\n",
    "    train_df[\"Fare\"] = np.log1p(train_df[\"Fare\"].fillna(median))\n",
    "    test_df[\"Fare\"] = np.log1p(test_df[\"Fare\"].fillna(median))\n",
    "\n",
    "    # Encoding categorical features: 'Sex', 'Embarked'\n",
    "    label_encoder = LabelEncoder()\n",
    "    train_df[\"Sex\"] = label_encoder.fit_transform(train_df[\"Sex\"])\n",
    "    test_df[\"Sex\"] = label_encoder.transform(test_df[\"Sex\"])\n",
    "\n",
    "    train_df[\"Embarked\"] = label_encoder.fit_transform(train_df[\"Embarked\"])\n",
    "    test_df[\"Embarked\"] = label_encoder.transform(test_df[\"Embarked\"])\n",
    "\n",
    "    # Scale numeric features: Age, Fare\n",
    "    scaler = StandardScaler()\n",
    "    train_df[[\"Age\", \"Fare\"]] = scaler.fit_transform(train_df[[\"Age\", \"Fare\"]])\n",
    "    test_df[[\"Age\", \"Fare\"]] = scaler.transform(test_df[[\"Age\", \"Fare\"]])\n",
    "\n",
    "    return train_df, test_df\n",
    "\n",
    "\n",
    "train, test = preprocess_data(train, test)"
   ]
  },
  {
   "cell_type": "code",
   "execution_count": null,
   "id": "df0624f0",
   "metadata": {
    "execution": {
     "iopub.execute_input": "2024-11-11T16:20:44.220760Z",
     "iopub.status.busy": "2024-11-11T16:20:44.219754Z",
     "iopub.status.idle": "2024-11-11T16:20:44.347070Z",
     "shell.execute_reply": "2024-11-11T16:20:44.345985Z"
    },
    "papermill": {
     "duration": 0.140843,
     "end_time": "2024-11-11T16:20:44.349554",
     "exception": false,
     "start_time": "2024-11-11T16:20:44.208711",
     "status": "completed"
    },
    "tags": []
   },
   "outputs": [],
   "source": [
    "# Features and labels\n",
    "from sklearn.model_selection import train_test_split\n",
    "\n",
    "X = train.drop(\"Survived\", axis=1)\n",
    "y = train[\"Survived\"]\n",
    "X_train, X_valid, y_train, y_valid = train_test_split(\n",
    "    X, y, test_size=0.3, random_state=42\n",
    ")"
   ]
  },
  {
   "cell_type": "code",
   "execution_count": null,
   "id": "be3c6167",
   "metadata": {
    "execution": {
     "iopub.execute_input": "2024-11-11T16:20:44.371673Z",
     "iopub.status.busy": "2024-11-11T16:20:44.371277Z",
     "iopub.status.idle": "2024-11-11T16:20:44.386195Z",
     "shell.execute_reply": "2024-11-11T16:20:44.384990Z"
    },
    "papermill": {
     "duration": 0.029273,
     "end_time": "2024-11-11T16:20:44.388492",
     "exception": false,
     "start_time": "2024-11-11T16:20:44.359219",
     "status": "completed"
    },
    "tags": []
   },
   "outputs": [],
   "source": [
    "X"
   ]
  },
  {
   "cell_type": "code",
   "execution_count": null,
   "id": "7dc41960",
   "metadata": {
    "execution": {
     "iopub.execute_input": "2024-11-11T16:20:44.410917Z",
     "iopub.status.busy": "2024-11-11T16:20:44.409836Z",
     "iopub.status.idle": "2024-11-11T16:20:44.418000Z",
     "shell.execute_reply": "2024-11-11T16:20:44.417007Z"
    },
    "papermill": {
     "duration": 0.021541,
     "end_time": "2024-11-11T16:20:44.420164",
     "exception": false,
     "start_time": "2024-11-11T16:20:44.398623",
     "status": "completed"
    },
    "tags": []
   },
   "outputs": [],
   "source": [
    "y"
   ]
  },
  {
   "cell_type": "markdown",
   "id": "1a1744ec",
   "metadata": {
    "papermill": {
     "duration": 0.009957,
     "end_time": "2024-11-11T16:20:44.440675",
     "exception": false,
     "start_time": "2024-11-11T16:20:44.430718",
     "status": "completed"
    },
    "tags": []
   },
   "source": [
    "# 3. Model selection & training"
   ]
  },
  {
   "cell_type": "code",
   "execution_count": null,
   "id": "ccc7b8f5",
   "metadata": {
    "execution": {
     "iopub.execute_input": "2024-11-11T16:20:44.463329Z",
     "iopub.status.busy": "2024-11-11T16:20:44.462367Z",
     "iopub.status.idle": "2024-11-11T16:20:44.960618Z",
     "shell.execute_reply": "2024-11-11T16:20:44.959564Z"
    },
    "papermill": {
     "duration": 0.511938,
     "end_time": "2024-11-11T16:20:44.962806",
     "exception": false,
     "start_time": "2024-11-11T16:20:44.450868",
     "status": "completed"
    },
    "tags": []
   },
   "outputs": [],
   "source": [
    "from sklearn.metrics import accuracy_score, confusion_matrix, classification_report\n",
    "from sklearn.linear_model import LogisticRegression\n",
    "\n",
    "# Logistic Regression model\n",
    "logreg = LogisticRegression(max_iter=200)\n",
    "\n",
    "# Train the model\n",
    "logreg.fit(X_train, y_train)\n",
    "\n",
    "# Make predictions\n",
    "y_pred = logreg.predict(X_valid)\n",
    "\n",
    "# Evaluate the model\n",
    "print(\"Logistic Regression Accuracy: \", accuracy_score(y_valid, y_pred))\n",
    "sns.heatmap(confusion_matrix(y_valid, y_pred), annot=True, cmap=\"coolwarm\", fmt=\".2f\")\n",
    "print(\"Classification Report:\\n\", classification_report(y_valid, y_pred))"
   ]
  },
  {
   "cell_type": "code",
   "execution_count": null,
   "id": "20ea5c88",
   "metadata": {
    "execution": {
     "iopub.execute_input": "2024-11-11T16:20:44.985812Z",
     "iopub.status.busy": "2024-11-11T16:20:44.985397Z",
     "iopub.status.idle": "2024-11-11T16:20:45.670887Z",
     "shell.execute_reply": "2024-11-11T16:20:45.669891Z"
    },
    "papermill": {
     "duration": 0.699704,
     "end_time": "2024-11-11T16:20:45.673240",
     "exception": false,
     "start_time": "2024-11-11T16:20:44.973536",
     "status": "completed"
    },
    "tags": []
   },
   "outputs": [],
   "source": [
    "from sklearn.ensemble import RandomForestClassifier\n",
    "\n",
    "# Random Forest model\n",
    "rf = RandomForestClassifier(n_estimators=100, random_state=42)\n",
    "\n",
    "# Train the model\n",
    "rf.fit(X_train, y_train)\n",
    "\n",
    "# Make predictions\n",
    "y_pred = rf.predict(X_valid)\n",
    "\n",
    "# Evaluate the model\n",
    "print(\"Random Forest Accuracy: \", accuracy_score(y_valid, y_pred))\n",
    "sns.heatmap(confusion_matrix(y_valid, y_pred), annot=True, cmap=\"coolwarm\", fmt=\".2f\")\n",
    "print(\"Classification Report:\\n\", classification_report(y_valid, y_pred))"
   ]
  },
  {
   "cell_type": "markdown",
   "id": "41c4c9c6",
   "metadata": {
    "papermill": {
     "duration": 0.014352,
     "end_time": "2024-11-11T16:20:45.699620",
     "exception": false,
     "start_time": "2024-11-11T16:20:45.685268",
     "status": "completed"
    },
    "tags": []
   },
   "source": [
    "# 4. Submit prediction"
   ]
  },
  {
   "cell_type": "code",
   "execution_count": null,
   "id": "0055882e",
   "metadata": {
    "execution": {
     "iopub.execute_input": "2024-11-11T16:20:45.725949Z",
     "iopub.status.busy": "2024-11-11T16:20:45.724992Z",
     "iopub.status.idle": "2024-11-11T16:20:45.737489Z",
     "shell.execute_reply": "2024-11-11T16:20:45.736435Z"
    },
    "papermill": {
     "duration": 0.027928,
     "end_time": "2024-11-11T16:20:45.740192",
     "exception": false,
     "start_time": "2024-11-11T16:20:45.712264",
     "status": "completed"
    },
    "tags": []
   },
   "outputs": [],
   "source": [
    "# Make prediction for test data\n",
    "test_preds = logreg.predict(test)\n",
    "\n",
    "# Save prediction in required format\n",
    "pd.DataFrame({\"PassengerId\": test.index, \"Survived\": test_preds}).to_csv(\n",
    "    \"./submission.csv\", index=False\n",
    ")"
   ]
  },
  {
   "cell_type": "code",
   "execution_count": null,
   "id": "d6a3a4a9",
   "metadata": {
    "execution": {
     "iopub.execute_input": "2024-11-11T16:20:45.764733Z",
     "iopub.status.busy": "2024-11-11T16:20:45.763695Z",
     "iopub.status.idle": "2024-11-11T16:20:45.778585Z",
     "shell.execute_reply": "2024-11-11T16:20:45.777425Z"
    },
    "papermill": {
     "duration": 0.030873,
     "end_time": "2024-11-11T16:20:45.782101",
     "exception": false,
     "start_time": "2024-11-11T16:20:45.751228",
     "status": "completed"
    },
    "tags": []
   },
   "outputs": [],
   "source": [
    "pd.read_csv(\"./submission.csv\")"
   ]
  }
 ],
 "metadata": {
  "kaggle": {
   "accelerator": "none",
   "dataSources": [
    {
     "databundleVersionId": 26502,
     "sourceId": 3136,
     "sourceType": "competition"
    }
   ],
   "dockerImageVersionId": 30786,
   "isGpuEnabled": false,
   "isInternetEnabled": true,
   "language": "python",
   "sourceType": "notebook"
  },
  "kernelspec": {
   "display_name": "kaggle-tutorial-SRy77tqL-py3.12",
   "language": "python",
   "name": "python3"
  },
  "language_info": {
   "codemirror_mode": {
    "name": "ipython",
    "version": 3
   },
   "file_extension": ".py",
   "mimetype": "text/x-python",
   "name": "python",
   "nbconvert_exporter": "python",
   "pygments_lexer": "ipython3",
   "version": "3.12.7"
  },
  "papermill": {
   "default_parameters": {},
   "duration": 10.704561,
   "end_time": "2024-11-11T16:20:46.517311",
   "environment_variables": {},
   "exception": null,
   "input_path": "__notebook__.ipynb",
   "output_path": "__notebook__.ipynb",
   "parameters": {},
   "start_time": "2024-11-11T16:20:35.812750",
   "version": "2.6.0"
  }
 },
 "nbformat": 4,
 "nbformat_minor": 5
}
