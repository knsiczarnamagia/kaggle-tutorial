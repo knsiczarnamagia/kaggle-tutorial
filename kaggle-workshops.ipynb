{
 "cells": [
  {
   "cell_type": "code",
   "execution_count": 1,
   "id": "93c4d7cc",
   "metadata": {
    "_cell_guid": "b1076dfc-b9ad-4769-8c92-a6c4dae69d19",
    "_uuid": "8f2839f25d086af736a60e9eeb907d3b93b6e0e5",
    "papermill": {
     "duration": 0.964664,
     "end_time": "2024-11-11T16:20:39.656393",
     "exception": false,
     "start_time": "2024-11-11T16:20:38.691729",
     "status": "completed"
    },
    "tags": []
   },
   "outputs": [],
   "source": [
    "# This Python 3 environment comes with many helpful analytics libraries installed\n",
    "# It is defined by the kaggle/python Docker image: https://github.com/kaggle/docker-python\n",
    "# For example, here's several helpful packages to load\n",
    "\n",
    "import numpy as np # linear algebra\n",
    "import pandas as pd # data processing, CSV file I/O (e.g. pd.read_csv)\n",
    "\n",
    "# Input data files are available in the read-only \"../input/\" directory\n",
    "# For example, running this (by clicking run or pressing Shift+Enter) will list all files under the input directory\n",
    "\n",
    "import os\n",
    "for dirname, _, filenames in os.walk('data/titanic'):\n",
    "    for filename in filenames:\n",
    "        print(os.path.join(dirname, filename))\n",
    "\n",
    "# You can write up to 20GB to the current directory (/kaggle/working/) that gets preserved as output when you create a version using \"Save & Run All\" \n",
    "# You can also write temporary files to /kaggle/temp/, but they won't be saved outside of the current session"
   ]
  },
  {
   "cell_type": "markdown",
   "id": "80c511a1",
   "metadata": {
    "papermill": {
     "duration": 0.00487,
     "end_time": "2024-11-11T16:20:39.666646",
     "exception": false,
     "start_time": "2024-11-11T16:20:39.661776",
     "status": "completed"
    },
    "tags": []
   },
   "source": [
    "# Typical workflow: \n",
    "1. data exploration (visualization, understanding the data/problem)\n",
    "2. cleaning/imputation (e.g. `fillna`, removal of redundant/least important columns etc.). \n",
    "3. model selection, training (is this problem classification or regression; selection of the most efficient model)\n",
    "4. submit prediction"
   ]
  },
  {
   "cell_type": "markdown",
   "id": "d3b469eb",
   "metadata": {
    "papermill": {
     "duration": 0.004755,
     "end_time": "2024-11-11T16:20:39.676508",
     "exception": false,
     "start_time": "2024-11-11T16:20:39.671753",
     "status": "completed"
    },
    "tags": []
   },
   "source": [
    "# 1. EDA - Exploratory Data Analysis"
   ]
  },
  {
   "cell_type": "markdown",
   "id": "fac3b8c6",
   "metadata": {
    "papermill": {
     "duration": 0.004779,
     "end_time": "2024-11-11T16:20:39.686395",
     "exception": false,
     "start_time": "2024-11-11T16:20:39.681616",
     "status": "completed"
    },
    "tags": []
   },
   "source": [
    "## Read datacard of competition\n",
    "\n",
    "https://www.kaggle.com/competitions/titanic/data"
   ]
  },
  {
   "cell_type": "markdown",
   "id": "5c0c21f6",
   "metadata": {
    "papermill": {
     "duration": 0.004784,
     "end_time": "2024-11-11T16:20:39.696374",
     "exception": false,
     "start_time": "2024-11-11T16:20:39.691590",
     "status": "completed"
    },
    "tags": []
   },
   "source": [
    "## Read data"
   ]
  },
  {
   "cell_type": "code",
   "execution_count": 10,
   "id": "a5cb7f01-6839-410d-aed9-0fb40d5d4226",
   "metadata": {},
   "outputs": [
    {
     "data": {
      "text/plain": [
       "False"
      ]
     },
     "execution_count": 10,
     "metadata": {},
     "output_type": "execute_result"
    }
   ],
   "source": [
    "from pathlib import Path\n",
    "Path('./data/titanic/train.csv')"
   ]
  },
  {
   "cell_type": "code",
   "execution_count": 14,
   "id": "893e2e22-3e14-4e9f-8ca7-55ab61a3e3a8",
   "metadata": {},
   "outputs": [
    {
     "data": {
      "text/plain": [
       "'C:\\\\Users\\\\dawid\\\\projects\\\\kaggle-tutorial'"
      ]
     },
     "execution_count": 14,
     "metadata": {},
     "output_type": "execute_result"
    }
   ],
   "source": [
    "pwd"
   ]
  },
  {
   "cell_type": "code",
   "execution_count": 13,
   "id": "8fd1acf3",
   "metadata": {
    "papermill": {
     "duration": 0.075999,
     "end_time": "2024-11-11T16:20:39.777576",
     "exception": false,
     "start_time": "2024-11-11T16:20:39.701577",
     "status": "completed"
    },
    "tags": []
   },
   "outputs": [
    {
     "ename": "FileNotFoundError",
     "evalue": "[Errno 2] No such file or directory: 'data\\\\titanic\\\\train.csv'",
     "output_type": "error",
     "traceback": [
      "\u001b[1;31m---------------------------------------------------------------------------\u001b[0m",
      "\u001b[1;31mFileNotFoundError\u001b[0m                         Traceback (most recent call last)",
      "Cell \u001b[1;32mIn[13], line 1\u001b[0m\n\u001b[1;32m----> 1\u001b[0m train \u001b[38;5;241m=\u001b[39m \u001b[43mpd\u001b[49m\u001b[38;5;241;43m.\u001b[39;49m\u001b[43mread_csv\u001b[49m\u001b[43m(\u001b[49m\u001b[43mPath\u001b[49m\u001b[43m(\u001b[49m\u001b[38;5;124;43m'\u001b[39;49m\u001b[38;5;124;43m./data/titanic/train.csv\u001b[39;49m\u001b[38;5;124;43m'\u001b[39;49m\u001b[43m)\u001b[49m\u001b[43m,\u001b[49m\u001b[43m \u001b[49m\u001b[43mindex_col\u001b[49m\u001b[38;5;241;43m=\u001b[39;49m\u001b[38;5;124;43m'\u001b[39;49m\u001b[38;5;124;43mPassengerId\u001b[39;49m\u001b[38;5;124;43m'\u001b[39;49m\u001b[43m)\u001b[49m\n\u001b[0;32m      2\u001b[0m test \u001b[38;5;241m=\u001b[39m pd\u001b[38;5;241m.\u001b[39mread_csv(Path(\u001b[38;5;124m'\u001b[39m\u001b[38;5;124m./data/titanic/test.csv\u001b[39m\u001b[38;5;124m'\u001b[39m), index_col\u001b[38;5;241m=\u001b[39m\u001b[38;5;124m'\u001b[39m\u001b[38;5;124mPassengerId\u001b[39m\u001b[38;5;124m'\u001b[39m)\n\u001b[0;32m      3\u001b[0m train\u001b[38;5;241m.\u001b[39mhead(\u001b[38;5;241m10\u001b[39m)\n",
      "File \u001b[1;32m~\\AppData\\Local\\pypoetry\\Cache\\virtualenvs\\kaggle-tutorial-SRy77tqL-py3.12\\Lib\\site-packages\\pandas\\io\\parsers\\readers.py:1026\u001b[0m, in \u001b[0;36mread_csv\u001b[1;34m(filepath_or_buffer, sep, delimiter, header, names, index_col, usecols, dtype, engine, converters, true_values, false_values, skipinitialspace, skiprows, skipfooter, nrows, na_values, keep_default_na, na_filter, verbose, skip_blank_lines, parse_dates, infer_datetime_format, keep_date_col, date_parser, date_format, dayfirst, cache_dates, iterator, chunksize, compression, thousands, decimal, lineterminator, quotechar, quoting, doublequote, escapechar, comment, encoding, encoding_errors, dialect, on_bad_lines, delim_whitespace, low_memory, memory_map, float_precision, storage_options, dtype_backend)\u001b[0m\n\u001b[0;32m   1013\u001b[0m kwds_defaults \u001b[38;5;241m=\u001b[39m _refine_defaults_read(\n\u001b[0;32m   1014\u001b[0m     dialect,\n\u001b[0;32m   1015\u001b[0m     delimiter,\n\u001b[1;32m   (...)\u001b[0m\n\u001b[0;32m   1022\u001b[0m     dtype_backend\u001b[38;5;241m=\u001b[39mdtype_backend,\n\u001b[0;32m   1023\u001b[0m )\n\u001b[0;32m   1024\u001b[0m kwds\u001b[38;5;241m.\u001b[39mupdate(kwds_defaults)\n\u001b[1;32m-> 1026\u001b[0m \u001b[38;5;28;01mreturn\u001b[39;00m \u001b[43m_read\u001b[49m\u001b[43m(\u001b[49m\u001b[43mfilepath_or_buffer\u001b[49m\u001b[43m,\u001b[49m\u001b[43m \u001b[49m\u001b[43mkwds\u001b[49m\u001b[43m)\u001b[49m\n",
      "File \u001b[1;32m~\\AppData\\Local\\pypoetry\\Cache\\virtualenvs\\kaggle-tutorial-SRy77tqL-py3.12\\Lib\\site-packages\\pandas\\io\\parsers\\readers.py:620\u001b[0m, in \u001b[0;36m_read\u001b[1;34m(filepath_or_buffer, kwds)\u001b[0m\n\u001b[0;32m    617\u001b[0m _validate_names(kwds\u001b[38;5;241m.\u001b[39mget(\u001b[38;5;124m\"\u001b[39m\u001b[38;5;124mnames\u001b[39m\u001b[38;5;124m\"\u001b[39m, \u001b[38;5;28;01mNone\u001b[39;00m))\n\u001b[0;32m    619\u001b[0m \u001b[38;5;66;03m# Create the parser.\u001b[39;00m\n\u001b[1;32m--> 620\u001b[0m parser \u001b[38;5;241m=\u001b[39m \u001b[43mTextFileReader\u001b[49m\u001b[43m(\u001b[49m\u001b[43mfilepath_or_buffer\u001b[49m\u001b[43m,\u001b[49m\u001b[43m \u001b[49m\u001b[38;5;241;43m*\u001b[39;49m\u001b[38;5;241;43m*\u001b[39;49m\u001b[43mkwds\u001b[49m\u001b[43m)\u001b[49m\n\u001b[0;32m    622\u001b[0m \u001b[38;5;28;01mif\u001b[39;00m chunksize \u001b[38;5;129;01mor\u001b[39;00m iterator:\n\u001b[0;32m    623\u001b[0m     \u001b[38;5;28;01mreturn\u001b[39;00m parser\n",
      "File \u001b[1;32m~\\AppData\\Local\\pypoetry\\Cache\\virtualenvs\\kaggle-tutorial-SRy77tqL-py3.12\\Lib\\site-packages\\pandas\\io\\parsers\\readers.py:1620\u001b[0m, in \u001b[0;36mTextFileReader.__init__\u001b[1;34m(self, f, engine, **kwds)\u001b[0m\n\u001b[0;32m   1617\u001b[0m     \u001b[38;5;28mself\u001b[39m\u001b[38;5;241m.\u001b[39moptions[\u001b[38;5;124m\"\u001b[39m\u001b[38;5;124mhas_index_names\u001b[39m\u001b[38;5;124m\"\u001b[39m] \u001b[38;5;241m=\u001b[39m kwds[\u001b[38;5;124m\"\u001b[39m\u001b[38;5;124mhas_index_names\u001b[39m\u001b[38;5;124m\"\u001b[39m]\n\u001b[0;32m   1619\u001b[0m \u001b[38;5;28mself\u001b[39m\u001b[38;5;241m.\u001b[39mhandles: IOHandles \u001b[38;5;241m|\u001b[39m \u001b[38;5;28;01mNone\u001b[39;00m \u001b[38;5;241m=\u001b[39m \u001b[38;5;28;01mNone\u001b[39;00m\n\u001b[1;32m-> 1620\u001b[0m \u001b[38;5;28mself\u001b[39m\u001b[38;5;241m.\u001b[39m_engine \u001b[38;5;241m=\u001b[39m \u001b[38;5;28;43mself\u001b[39;49m\u001b[38;5;241;43m.\u001b[39;49m\u001b[43m_make_engine\u001b[49m\u001b[43m(\u001b[49m\u001b[43mf\u001b[49m\u001b[43m,\u001b[49m\u001b[43m \u001b[49m\u001b[38;5;28;43mself\u001b[39;49m\u001b[38;5;241;43m.\u001b[39;49m\u001b[43mengine\u001b[49m\u001b[43m)\u001b[49m\n",
      "File \u001b[1;32m~\\AppData\\Local\\pypoetry\\Cache\\virtualenvs\\kaggle-tutorial-SRy77tqL-py3.12\\Lib\\site-packages\\pandas\\io\\parsers\\readers.py:1880\u001b[0m, in \u001b[0;36mTextFileReader._make_engine\u001b[1;34m(self, f, engine)\u001b[0m\n\u001b[0;32m   1878\u001b[0m     \u001b[38;5;28;01mif\u001b[39;00m \u001b[38;5;124m\"\u001b[39m\u001b[38;5;124mb\u001b[39m\u001b[38;5;124m\"\u001b[39m \u001b[38;5;129;01mnot\u001b[39;00m \u001b[38;5;129;01min\u001b[39;00m mode:\n\u001b[0;32m   1879\u001b[0m         mode \u001b[38;5;241m+\u001b[39m\u001b[38;5;241m=\u001b[39m \u001b[38;5;124m\"\u001b[39m\u001b[38;5;124mb\u001b[39m\u001b[38;5;124m\"\u001b[39m\n\u001b[1;32m-> 1880\u001b[0m \u001b[38;5;28mself\u001b[39m\u001b[38;5;241m.\u001b[39mhandles \u001b[38;5;241m=\u001b[39m \u001b[43mget_handle\u001b[49m\u001b[43m(\u001b[49m\n\u001b[0;32m   1881\u001b[0m \u001b[43m    \u001b[49m\u001b[43mf\u001b[49m\u001b[43m,\u001b[49m\n\u001b[0;32m   1882\u001b[0m \u001b[43m    \u001b[49m\u001b[43mmode\u001b[49m\u001b[43m,\u001b[49m\n\u001b[0;32m   1883\u001b[0m \u001b[43m    \u001b[49m\u001b[43mencoding\u001b[49m\u001b[38;5;241;43m=\u001b[39;49m\u001b[38;5;28;43mself\u001b[39;49m\u001b[38;5;241;43m.\u001b[39;49m\u001b[43moptions\u001b[49m\u001b[38;5;241;43m.\u001b[39;49m\u001b[43mget\u001b[49m\u001b[43m(\u001b[49m\u001b[38;5;124;43m\"\u001b[39;49m\u001b[38;5;124;43mencoding\u001b[39;49m\u001b[38;5;124;43m\"\u001b[39;49m\u001b[43m,\u001b[49m\u001b[43m \u001b[49m\u001b[38;5;28;43;01mNone\u001b[39;49;00m\u001b[43m)\u001b[49m\u001b[43m,\u001b[49m\n\u001b[0;32m   1884\u001b[0m \u001b[43m    \u001b[49m\u001b[43mcompression\u001b[49m\u001b[38;5;241;43m=\u001b[39;49m\u001b[38;5;28;43mself\u001b[39;49m\u001b[38;5;241;43m.\u001b[39;49m\u001b[43moptions\u001b[49m\u001b[38;5;241;43m.\u001b[39;49m\u001b[43mget\u001b[49m\u001b[43m(\u001b[49m\u001b[38;5;124;43m\"\u001b[39;49m\u001b[38;5;124;43mcompression\u001b[39;49m\u001b[38;5;124;43m\"\u001b[39;49m\u001b[43m,\u001b[49m\u001b[43m \u001b[49m\u001b[38;5;28;43;01mNone\u001b[39;49;00m\u001b[43m)\u001b[49m\u001b[43m,\u001b[49m\n\u001b[0;32m   1885\u001b[0m \u001b[43m    \u001b[49m\u001b[43mmemory_map\u001b[49m\u001b[38;5;241;43m=\u001b[39;49m\u001b[38;5;28;43mself\u001b[39;49m\u001b[38;5;241;43m.\u001b[39;49m\u001b[43moptions\u001b[49m\u001b[38;5;241;43m.\u001b[39;49m\u001b[43mget\u001b[49m\u001b[43m(\u001b[49m\u001b[38;5;124;43m\"\u001b[39;49m\u001b[38;5;124;43mmemory_map\u001b[39;49m\u001b[38;5;124;43m\"\u001b[39;49m\u001b[43m,\u001b[49m\u001b[43m \u001b[49m\u001b[38;5;28;43;01mFalse\u001b[39;49;00m\u001b[43m)\u001b[49m\u001b[43m,\u001b[49m\n\u001b[0;32m   1886\u001b[0m \u001b[43m    \u001b[49m\u001b[43mis_text\u001b[49m\u001b[38;5;241;43m=\u001b[39;49m\u001b[43mis_text\u001b[49m\u001b[43m,\u001b[49m\n\u001b[0;32m   1887\u001b[0m \u001b[43m    \u001b[49m\u001b[43merrors\u001b[49m\u001b[38;5;241;43m=\u001b[39;49m\u001b[38;5;28;43mself\u001b[39;49m\u001b[38;5;241;43m.\u001b[39;49m\u001b[43moptions\u001b[49m\u001b[38;5;241;43m.\u001b[39;49m\u001b[43mget\u001b[49m\u001b[43m(\u001b[49m\u001b[38;5;124;43m\"\u001b[39;49m\u001b[38;5;124;43mencoding_errors\u001b[39;49m\u001b[38;5;124;43m\"\u001b[39;49m\u001b[43m,\u001b[49m\u001b[43m \u001b[49m\u001b[38;5;124;43m\"\u001b[39;49m\u001b[38;5;124;43mstrict\u001b[39;49m\u001b[38;5;124;43m\"\u001b[39;49m\u001b[43m)\u001b[49m\u001b[43m,\u001b[49m\n\u001b[0;32m   1888\u001b[0m \u001b[43m    \u001b[49m\u001b[43mstorage_options\u001b[49m\u001b[38;5;241;43m=\u001b[39;49m\u001b[38;5;28;43mself\u001b[39;49m\u001b[38;5;241;43m.\u001b[39;49m\u001b[43moptions\u001b[49m\u001b[38;5;241;43m.\u001b[39;49m\u001b[43mget\u001b[49m\u001b[43m(\u001b[49m\u001b[38;5;124;43m\"\u001b[39;49m\u001b[38;5;124;43mstorage_options\u001b[39;49m\u001b[38;5;124;43m\"\u001b[39;49m\u001b[43m,\u001b[49m\u001b[43m \u001b[49m\u001b[38;5;28;43;01mNone\u001b[39;49;00m\u001b[43m)\u001b[49m\u001b[43m,\u001b[49m\n\u001b[0;32m   1889\u001b[0m \u001b[43m\u001b[49m\u001b[43m)\u001b[49m\n\u001b[0;32m   1890\u001b[0m \u001b[38;5;28;01massert\u001b[39;00m \u001b[38;5;28mself\u001b[39m\u001b[38;5;241m.\u001b[39mhandles \u001b[38;5;129;01mis\u001b[39;00m \u001b[38;5;129;01mnot\u001b[39;00m \u001b[38;5;28;01mNone\u001b[39;00m\n\u001b[0;32m   1891\u001b[0m f \u001b[38;5;241m=\u001b[39m \u001b[38;5;28mself\u001b[39m\u001b[38;5;241m.\u001b[39mhandles\u001b[38;5;241m.\u001b[39mhandle\n",
      "File \u001b[1;32m~\\AppData\\Local\\pypoetry\\Cache\\virtualenvs\\kaggle-tutorial-SRy77tqL-py3.12\\Lib\\site-packages\\pandas\\io\\common.py:873\u001b[0m, in \u001b[0;36mget_handle\u001b[1;34m(path_or_buf, mode, encoding, compression, memory_map, is_text, errors, storage_options)\u001b[0m\n\u001b[0;32m    868\u001b[0m \u001b[38;5;28;01melif\u001b[39;00m \u001b[38;5;28misinstance\u001b[39m(handle, \u001b[38;5;28mstr\u001b[39m):\n\u001b[0;32m    869\u001b[0m     \u001b[38;5;66;03m# Check whether the filename is to be opened in binary mode.\u001b[39;00m\n\u001b[0;32m    870\u001b[0m     \u001b[38;5;66;03m# Binary mode does not support 'encoding' and 'newline'.\u001b[39;00m\n\u001b[0;32m    871\u001b[0m     \u001b[38;5;28;01mif\u001b[39;00m ioargs\u001b[38;5;241m.\u001b[39mencoding \u001b[38;5;129;01mand\u001b[39;00m \u001b[38;5;124m\"\u001b[39m\u001b[38;5;124mb\u001b[39m\u001b[38;5;124m\"\u001b[39m \u001b[38;5;129;01mnot\u001b[39;00m \u001b[38;5;129;01min\u001b[39;00m ioargs\u001b[38;5;241m.\u001b[39mmode:\n\u001b[0;32m    872\u001b[0m         \u001b[38;5;66;03m# Encoding\u001b[39;00m\n\u001b[1;32m--> 873\u001b[0m         handle \u001b[38;5;241m=\u001b[39m \u001b[38;5;28;43mopen\u001b[39;49m\u001b[43m(\u001b[49m\n\u001b[0;32m    874\u001b[0m \u001b[43m            \u001b[49m\u001b[43mhandle\u001b[49m\u001b[43m,\u001b[49m\n\u001b[0;32m    875\u001b[0m \u001b[43m            \u001b[49m\u001b[43mioargs\u001b[49m\u001b[38;5;241;43m.\u001b[39;49m\u001b[43mmode\u001b[49m\u001b[43m,\u001b[49m\n\u001b[0;32m    876\u001b[0m \u001b[43m            \u001b[49m\u001b[43mencoding\u001b[49m\u001b[38;5;241;43m=\u001b[39;49m\u001b[43mioargs\u001b[49m\u001b[38;5;241;43m.\u001b[39;49m\u001b[43mencoding\u001b[49m\u001b[43m,\u001b[49m\n\u001b[0;32m    877\u001b[0m \u001b[43m            \u001b[49m\u001b[43merrors\u001b[49m\u001b[38;5;241;43m=\u001b[39;49m\u001b[43merrors\u001b[49m\u001b[43m,\u001b[49m\n\u001b[0;32m    878\u001b[0m \u001b[43m            \u001b[49m\u001b[43mnewline\u001b[49m\u001b[38;5;241;43m=\u001b[39;49m\u001b[38;5;124;43m\"\u001b[39;49m\u001b[38;5;124;43m\"\u001b[39;49m\u001b[43m,\u001b[49m\n\u001b[0;32m    879\u001b[0m \u001b[43m        \u001b[49m\u001b[43m)\u001b[49m\n\u001b[0;32m    880\u001b[0m     \u001b[38;5;28;01melse\u001b[39;00m:\n\u001b[0;32m    881\u001b[0m         \u001b[38;5;66;03m# Binary mode\u001b[39;00m\n\u001b[0;32m    882\u001b[0m         handle \u001b[38;5;241m=\u001b[39m \u001b[38;5;28mopen\u001b[39m(handle, ioargs\u001b[38;5;241m.\u001b[39mmode)\n",
      "\u001b[1;31mFileNotFoundError\u001b[0m: [Errno 2] No such file or directory: 'data\\\\titanic\\\\train.csv'"
     ]
    }
   ],
   "source": [
    "train = pd.read_csv(Path('./data/titanic/train.csv'), index_col='PassengerId')\n",
    "test = pd.read_csv(Path('./data/titanic/test.csv'), index_col='PassengerId')\n",
    "train.head(10)"
   ]
  },
  {
   "cell_type": "code",
   "execution_count": null,
   "id": "5777d7b4",
   "metadata": {
    "papermill": {
     "duration": 0.042229,
     "end_time": "2024-11-11T16:20:39.825569",
     "exception": false,
     "start_time": "2024-11-11T16:20:39.783340",
     "status": "completed"
    },
    "tags": []
   },
   "outputs": [],
   "source": [
    "train.describe() # stats of each column"
   ]
  },
  {
   "cell_type": "code",
   "execution_count": null,
   "id": "2b307511",
   "metadata": {
    "papermill": {
     "duration": 0.017705,
     "end_time": "2024-11-11T16:20:39.849102",
     "exception": false,
     "start_time": "2024-11-11T16:20:39.831397",
     "status": "completed"
    },
    "tags": []
   },
   "outputs": [],
   "source": [
    "train.dtypes # any suggestions/conclusions at this step?"
   ]
  },
  {
   "cell_type": "code",
   "execution_count": null,
   "id": "0b56fd2f",
   "metadata": {
    "papermill": {
     "duration": 0.017944,
     "end_time": "2024-11-11T16:20:39.873086",
     "exception": false,
     "start_time": "2024-11-11T16:20:39.855142",
     "status": "completed"
    },
    "tags": []
   },
   "outputs": [],
   "source": [
    "print(train.isnull().sum(), '\\n')\n",
    "print(test.isnull().sum())"
   ]
  },
  {
   "cell_type": "code",
   "execution_count": null,
   "id": "b11a5a99",
   "metadata": {
    "papermill": {
     "duration": 4.072432,
     "end_time": "2024-11-11T16:20:43.951467",
     "exception": false,
     "start_time": "2024-11-11T16:20:39.879035",
     "status": "completed"
    },
    "tags": []
   },
   "outputs": [],
   "source": [
    "import pandas as pd\n",
    "import seaborn as sns\n",
    "import matplotlib.pyplot as plt\n",
    "\n",
    "def eda_titanic_data(df):\n",
    "    # Distribution of target variable 'Survived'\n",
    "    plt.figure(figsize=(6, 4))\n",
    "    sns.countplot(x='Survived', data=df)\n",
    "    plt.title('Survival Distribution')\n",
    "    plt.show()\n",
    "\n",
    "    # Distribution of 'Age'\n",
    "    plt.figure(figsize=(6, 4))\n",
    "    sns.histplot(df['Age'], kde=True, bins=10)\n",
    "    plt.title('Age Distribution')\n",
    "    plt.show()\n",
    "\n",
    "    # Distribution of 'Fare'\n",
    "    plt.figure(figsize=(6, 4))\n",
    "    sns.histplot(df['Fare'], kde=True, bins=10)\n",
    "    plt.title('Fare Distribution')\n",
    "    plt.show()\n",
    "\n",
    "    plt.figure(figsize=(6, 4))\n",
    "    sns.histplot(np.log1p(df['Fare']), kde=True, bins=30)\n",
    "    plt.title('log(1+Fare) Distribution')\n",
    "    plt.show()\n",
    "    \n",
    "    # Survival rate by Sex\n",
    "    plt.figure(figsize=(6, 4))\n",
    "    sns.countplot(x='Sex', hue='Survived', data=df)\n",
    "    plt.title('Survival Rate by Sex')\n",
    "    plt.show()\n",
    "\n",
    "    # Survival rate by Pclass\n",
    "    plt.figure(figsize=(6, 4))\n",
    "    sns.countplot(x='Pclass', hue='Survived', data=df)\n",
    "    plt.title('Survival Rate by Pclass')\n",
    "    plt.show()\n",
    "\n",
    "    # Box Plot for Age vs Survived\n",
    "    plt.figure(figsize=(6, 4))\n",
    "    sns.boxplot(x='Survived', y='Age', data=df, palette='coolwarm')\n",
    "    plt.title('Age Distribution by Survival')\n",
    "    plt.show()\n",
    "\n",
    "    # Correlation heatmap of numeric features\n",
    "    plt.figure(figsize=(8, 6))\n",
    "    corr = df.select_dtypes(include=[np.number]).corr()\n",
    "    sns.heatmap(corr, annot=True, cmap='coolwarm', fmt='.2f')\n",
    "    plt.title('Correlation Heatmap')\n",
    "    plt.show()\n",
    "\n",
    "eda_titanic_data(train)"
   ]
  },
  {
   "cell_type": "markdown",
   "id": "f79ae7b8",
   "metadata": {
    "papermill": {
     "duration": 0.009793,
     "end_time": "2024-11-11T16:20:43.972276",
     "exception": false,
     "start_time": "2024-11-11T16:20:43.962483",
     "status": "completed"
    },
    "tags": []
   },
   "source": [
    "# 2. Preprocessing"
   ]
  },
  {
   "cell_type": "code",
   "execution_count": null,
   "id": "6349cc66",
   "metadata": {
    "papermill": {
     "duration": 0.216821,
     "end_time": "2024-11-11T16:20:44.198997",
     "exception": false,
     "start_time": "2024-11-11T16:20:43.982176",
     "status": "completed"
    },
    "tags": []
   },
   "outputs": [],
   "source": [
    "from sklearn.preprocessing import LabelEncoder, StandardScaler\n",
    "\n",
    "def preprocess_data(train_df, test_df):\n",
    "\n",
    "    # Drop the 'Name', 'Cabin', 'Ticket' columns from both train and test datasets\n",
    "    train_df = train_df.drop(['Name', 'Cabin', 'Ticket'], axis=1)\n",
    "    test_df = test_df.drop(['Name', 'Cabin', 'Ticket'], axis=1)\n",
    "\n",
    "    # Fill missing Age values with the median\n",
    "    median = train_df['Age'].median()\n",
    "    train_df['Age'] = train_df['Age'].fillna(median)\n",
    "    test_df['Age'] = test_df['Age'].fillna(median)\n",
    "\n",
    "    # Fill missing Embarked values with the most frequent value (mode)\n",
    "    mode = train_df['Embarked'].mode()[0]\n",
    "    train_df['Embarked'] = train_df['Embarked'].fillna(mode)\n",
    "    test_df['Embarked'] = test_df['Embarked'].fillna(mode)\n",
    "\n",
    "    # Fill missing Fare values with the median and log\n",
    "    median = train_df['Fare'].median()\n",
    "    train_df['Fare'] = np.log1p(train_df['Fare'].fillna(median))\n",
    "    test_df['Fare'] = np.log1p(test_df['Fare'].fillna(median))\n",
    "\n",
    "    # Encoding categorical features: 'Sex', 'Embarked'\n",
    "    label_encoder = LabelEncoder()\n",
    "    train_df['Sex'] = label_encoder.fit_transform(train_df['Sex'])\n",
    "    test_df['Sex'] = label_encoder.transform(test_df['Sex'])\n",
    "    \n",
    "    train_df['Embarked'] = label_encoder.fit_transform(train_df['Embarked'])\n",
    "    test_df['Embarked'] = label_encoder.transform(test_df['Embarked'])\n",
    "\n",
    "    # Scale numeric features: Age, Fare\n",
    "    scaler = StandardScaler()\n",
    "    train_df[['Age', 'Fare']] = scaler.fit_transform(train_df[['Age', 'Fare']])\n",
    "    test_df[['Age', 'Fare']] = scaler.transform(test_df[['Age', 'Fare']])\n",
    "    \n",
    "    return train_df, test_df\n",
    "\n",
    "train, test = preprocess_data(train, test)"
   ]
  },
  {
   "cell_type": "code",
   "execution_count": null,
   "id": "df0624f0",
   "metadata": {
    "papermill": {
     "duration": 0.140843,
     "end_time": "2024-11-11T16:20:44.349554",
     "exception": false,
     "start_time": "2024-11-11T16:20:44.208711",
     "status": "completed"
    },
    "tags": []
   },
   "outputs": [],
   "source": [
    "# Features and labels\n",
    "from sklearn.model_selection import train_test_split\n",
    "\n",
    "X = train.drop('Survived', axis=1)\n",
    "y = train['Survived']\n",
    "X_train, X_valid, y_train, y_valid = train_test_split(X, y, test_size=0.3, random_state=42)"
   ]
  },
  {
   "cell_type": "code",
   "execution_count": null,
   "id": "be3c6167",
   "metadata": {
    "papermill": {
     "duration": 0.029273,
     "end_time": "2024-11-11T16:20:44.388492",
     "exception": false,
     "start_time": "2024-11-11T16:20:44.359219",
     "status": "completed"
    },
    "tags": []
   },
   "outputs": [],
   "source": [
    "X"
   ]
  },
  {
   "cell_type": "code",
   "execution_count": null,
   "id": "7dc41960",
   "metadata": {
    "papermill": {
     "duration": 0.021541,
     "end_time": "2024-11-11T16:20:44.420164",
     "exception": false,
     "start_time": "2024-11-11T16:20:44.398623",
     "status": "completed"
    },
    "tags": []
   },
   "outputs": [],
   "source": [
    "y"
   ]
  },
  {
   "cell_type": "markdown",
   "id": "1a1744ec",
   "metadata": {
    "papermill": {
     "duration": 0.009957,
     "end_time": "2024-11-11T16:20:44.440675",
     "exception": false,
     "start_time": "2024-11-11T16:20:44.430718",
     "status": "completed"
    },
    "tags": []
   },
   "source": [
    "# 3. Model selection & training"
   ]
  },
  {
   "cell_type": "code",
   "execution_count": null,
   "id": "ccc7b8f5",
   "metadata": {
    "papermill": {
     "duration": 0.511938,
     "end_time": "2024-11-11T16:20:44.962806",
     "exception": false,
     "start_time": "2024-11-11T16:20:44.450868",
     "status": "completed"
    },
    "tags": []
   },
   "outputs": [],
   "source": [
    "from sklearn.metrics import accuracy_score, confusion_matrix, classification_report\n",
    "from sklearn.linear_model import LogisticRegression\n",
    "\n",
    "# Logistic Regression model\n",
    "logreg = LogisticRegression(max_iter=200)\n",
    "\n",
    "# Train the model\n",
    "logreg.fit(X_train, y_train)\n",
    "\n",
    "# Make predictions\n",
    "y_pred = logreg.predict(X_valid)\n",
    "\n",
    "# Evaluate the model\n",
    "print(\"Logistic Regression Accuracy: \", accuracy_score(y_valid, y_pred))\n",
    "sns.heatmap(confusion_matrix(y_valid, y_pred), annot=True, cmap='coolwarm', fmt='.2f')\n",
    "print(\"Classification Report:\\n\", classification_report(y_valid, y_pred))"
   ]
  },
  {
   "cell_type": "code",
   "execution_count": null,
   "id": "20ea5c88",
   "metadata": {
    "papermill": {
     "duration": 0.699704,
     "end_time": "2024-11-11T16:20:45.673240",
     "exception": false,
     "start_time": "2024-11-11T16:20:44.973536",
     "status": "completed"
    },
    "tags": []
   },
   "outputs": [],
   "source": [
    "from sklearn.ensemble import RandomForestClassifier\n",
    "\n",
    "# Random Forest model\n",
    "rf = RandomForestClassifier(n_estimators=100, random_state=42)\n",
    "\n",
    "# Train the model\n",
    "rf.fit(X_train, y_train)\n",
    "\n",
    "# Make predictions\n",
    "y_pred = rf.predict(X_valid)\n",
    "\n",
    "# Evaluate the model\n",
    "print(\"Random Forest Accuracy: \", accuracy_score(y_valid, y_pred))\n",
    "sns.heatmap(confusion_matrix(y_valid, y_pred), annot=True, cmap='coolwarm', fmt='.2f')\n",
    "print(\"Classification Report:\\n\", classification_report(y_valid, y_pred))"
   ]
  },
  {
   "cell_type": "markdown",
   "id": "41c4c9c6",
   "metadata": {
    "papermill": {
     "duration": 0.014352,
     "end_time": "2024-11-11T16:20:45.699620",
     "exception": false,
     "start_time": "2024-11-11T16:20:45.685268",
     "status": "completed"
    },
    "tags": []
   },
   "source": [
    "# 4. Submit prediction"
   ]
  },
  {
   "cell_type": "code",
   "execution_count": null,
   "id": "0055882e",
   "metadata": {
    "papermill": {
     "duration": 0.027928,
     "end_time": "2024-11-11T16:20:45.740192",
     "exception": false,
     "start_time": "2024-11-11T16:20:45.712264",
     "status": "completed"
    },
    "tags": []
   },
   "outputs": [],
   "source": [
    "# Make prediction for test data\n",
    "test_preds = logreg.predict(test)\n",
    "\n",
    "# Save prediction in required format\n",
    "pd.DataFrame({\"PassengerId\": test.index, \"Survived\": test_preds}).to_csv('./submission.csv', index=False)"
   ]
  },
  {
   "cell_type": "code",
   "execution_count": null,
   "id": "d6a3a4a9",
   "metadata": {
    "papermill": {
     "duration": 0.030873,
     "end_time": "2024-11-11T16:20:45.782101",
     "exception": false,
     "start_time": "2024-11-11T16:20:45.751228",
     "status": "completed"
    },
    "tags": []
   },
   "outputs": [],
   "source": [
    "pd.read_csv('./submission.csv')"
   ]
  }
 ],
 "metadata": {
  "kaggle": {
   "accelerator": "none",
   "dataSources": [
    {
     "databundleVersionId": 26502,
     "sourceId": 3136,
     "sourceType": "competition"
    }
   ],
   "dockerImageVersionId": 30786,
   "isGpuEnabled": false,
   "isInternetEnabled": true,
   "language": "python",
   "sourceType": "notebook"
  },
  "kernelspec": {
   "display_name": "Python 3 (ipykernel)",
   "language": "python",
   "name": "python3"
  },
  "language_info": {
   "codemirror_mode": {
    "name": "ipython",
    "version": 3
   },
   "file_extension": ".py",
   "mimetype": "text/x-python",
   "name": "python",
   "nbconvert_exporter": "python",
   "pygments_lexer": "ipython3",
   "version": "3.12.7"
  },
  "papermill": {
   "default_parameters": {},
   "duration": 10.704561,
   "end_time": "2024-11-11T16:20:46.517311",
   "environment_variables": {},
   "exception": null,
   "input_path": "__notebook__.ipynb",
   "output_path": "__notebook__.ipynb",
   "parameters": {},
   "start_time": "2024-11-11T16:20:35.812750",
   "version": "2.6.0"
  }
 },
 "nbformat": 4,
 "nbformat_minor": 5
}
